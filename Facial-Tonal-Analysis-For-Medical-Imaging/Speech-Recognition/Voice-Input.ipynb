{
 "cells": [
  {
   "cell_type": "markdown",
   "id": "f43c7623-d6ac-4361-97f6-1c0562297b6f",
   "metadata": {},
   "source": [
    "# **Minor-2** *Face and Tonal Analysis*"
   ]
  },
  {
   "attachments": {},
   "cell_type": "markdown",
   "id": "69145849-75ed-4aef-81f1-69fc7176e0e7",
   "metadata": {},
   "source": [
    "## **Part-1** Speech Recognition\n",
    "#### Using PyAudio and SpeechRecognition libraries to take in voice input and store it in a string."
   ]
  },
  {
   "cell_type": "code",
   "execution_count": 7,
   "id": "812828ed-583a-4944-a00a-6da92d0cde3c",
   "metadata": {},
   "outputs": [
    {
     "name": "stdout",
     "output_type": "stream",
     "text": [
      "3.14.1\n"
     ]
    }
   ],
   "source": [
    "import speech_recognition as s_r\n",
    "print(s_r.__version__)"
   ]
  },
  {
   "cell_type": "code",
   "execution_count": 9,
   "id": "7d653e2e-1d0b-4d8a-b0d3-91e9e1bc4d4a",
   "metadata": {},
   "outputs": [
    {
     "name": "stdout",
     "output_type": "stream",
     "text": [
      "['Microsoft Sound Mapper - Output', 'Speakers (Realtek(R) Audio)', 'Primary Sound Driver', 'Speakers (Realtek(R) Audio)', 'Speakers (Realtek(R) Audio)', 'Mic in at front panel (black) (Mic in at front panel (black))', 'Stereo Mix (Realtek HD Audio Stereo input)', 'Headphones (Realtek HD Audio 2nd output)', 'Microphone (Realtek HD Audio Mic input)', 'Speakers (Realtek HD Audio output)', 'Speakers (Nahimic mirroring Wave Speaker)', 'Speakers (Nahimic Easy Surround)']\n"
     ]
    }
   ],
   "source": [
    "print(s_r.Microphone.list_microphone_names())"
   ]
  },
  {
   "cell_type": "code",
   "execution_count": 26,
   "id": "4f6db235-6bbc-49ad-ae7e-2cc7093838a1",
   "metadata": {},
   "outputs": [
    {
     "name": "stdout",
     "output_type": "stream",
     "text": [
      "Tell us what ails you\n",
      "have a fever\n"
     ]
    }
   ],
   "source": [
    "r = s_r.Recognizer()\n",
    "my_mic = s_r.Microphone(device_index=1)\n",
    "with my_mic as source:\n",
    "    print(\"Tell us what ails you\")\n",
    "    audio = r.listen(source)\n",
    "print(r.recognize_google(audio)) \n",
    "inp_string = r.recognize_google(audio)"
   ]
  },
  {
   "cell_type": "code",
   "execution_count": 27,
   "id": "b68bbf34-4608-4979-b8b2-3e6bcce80d94",
   "metadata": {},
   "outputs": [
    {
     "name": "stderr",
     "output_type": "stream",
     "text": [
      "No model was supplied, defaulted to distilbert/distilbert-base-uncased-finetuned-sst-2-english and revision 714eb0f (https://huggingface.co/distilbert/distilbert-base-uncased-finetuned-sst-2-english).\n",
      "Using a pipeline without specifying a model name and revision in production is not recommended.\n",
      "Device set to use cuda:0\n"
     ]
    },
    {
     "data": {
      "text/plain": [
       "[{'label': 'NEGATIVE', 'score': 0.9955810904502869}]"
      ]
     },
     "execution_count": 27,
     "metadata": {},
     "output_type": "execute_result"
    }
   ],
   "source": [
    "from transformers import pipeline\n",
    "analyzer = pipeline(\"sentiment-analysis\")\n",
    "analyzer(inp_string)"
   ]
  },
  {
   "cell_type": "code",
   "execution_count": null,
   "id": "1ea0e321-cc9e-42b7-8f02-f370f4095759",
   "metadata": {},
   "outputs": [],
   "source": []
  }
 ],
 "metadata": {
  "kernelspec": {
   "display_name": "Python 3 (ipykernel)",
   "language": "python",
   "name": "python3"
  },
  "language_info": {
   "codemirror_mode": {
    "name": "ipython",
    "version": 3
   },
   "file_extension": ".py",
   "mimetype": "text/x-python",
   "name": "python",
   "nbconvert_exporter": "python",
   "pygments_lexer": "ipython3",
   "version": "3.9.21"
  }
 },
 "nbformat": 4,
 "nbformat_minor": 5
}
