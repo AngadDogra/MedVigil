{
 "cells": [
  {
   "cell_type": "markdown",
   "id": "f43c7623-d6ac-4361-97f6-1c0562297b6f",
   "metadata": {},
   "source": [
    "# **Minor-2** *Face and Tonal Analysis*"
   ]
  },
  {
   "cell_type": "markdown",
   "id": "69145849-75ed-4aef-81f1-69fc7176e0e7",
   "metadata": {},
   "source": [
    "## **Part-1** Speech Recognition\n",
    "#### Using PyAudio and SpeechRecognition libraries to take in voice input and store it in a string."
   ]
  },
  {
   "cell_type": "code",
   "execution_count": 2,
   "id": "b44df5fd",
   "metadata": {},
   "outputs": [
    {
     "name": "stdout",
     "output_type": "stream",
     "text": [
      "Requirement already satisfied: SpeechRecognition in /Users/parz/miniforge3/envs/data-science/lib/python3.9/site-packages (3.14.1)\n",
      "Requirement already satisfied: typing-extensions in /Users/parz/miniforge3/envs/data-science/lib/python3.9/site-packages (from SpeechRecognition) (4.12.2)\n"
     ]
    }
   ],
   "source": [
    "!pip install SpeechRecognition"
   ]
  },
  {
   "cell_type": "code",
   "execution_count": 3,
   "id": "812828ed-583a-4944-a00a-6da92d0cde3c",
   "metadata": {
    "scrolled": true
   },
   "outputs": [
    {
     "name": "stdout",
     "output_type": "stream",
     "text": [
      "3.14.1\n"
     ]
    }
   ],
   "source": [
    "import speech_recognition as s_r\n",
    "print(s_r.__version__)"
   ]
  },
  {
   "cell_type": "code",
   "execution_count": 4,
   "id": "93be1245",
   "metadata": {},
   "outputs": [
    {
     "name": "stdout",
     "output_type": "stream",
     "text": [
      "Requirement already satisfied: pyaudio in /Users/parz/miniforge3/envs/data-science/lib/python3.9/site-packages (0.2.14)\r\n"
     ]
    }
   ],
   "source": [
    "!pip install pyaudio"
   ]
  },
  {
   "cell_type": "code",
   "execution_count": 5,
   "id": "7d653e2e-1d0b-4d8a-b0d3-91e9e1bc4d4a",
   "metadata": {},
   "outputs": [
    {
     "name": "stdout",
     "output_type": "stream",
     "text": [
      "['BlackHole 16ch', 'External Microphone', 'External Headphones', 'MacBook Air Microphone', 'MacBook Air Speakers', 'BlackHole Audio Input', 'Screen Recording With Audio']\n"
     ]
    }
   ],
   "source": [
    "print(s_r.Microphone.list_microphone_names())"
   ]
  },
  {
   "cell_type": "code",
   "execution_count": 9,
   "id": "4f6db235-6bbc-49ad-ae7e-2cc7093838a1",
   "metadata": {},
   "outputs": [],
   "source": [
    "# r = s_r.Recognizer()\n",
    "# my_mic = s_r.Microphone(device_index=1)\n",
    "# with my_mic as source:\n",
    "#     print(\"Tell us what ails you\")\n",
    "#     audio = r.listen(source)\n",
    "# print(r.recognize_google(audio)) \n",
    "inp_string = \"Hello am i well.\""
   ]
  },
  {
   "cell_type": "code",
   "execution_count": 10,
   "id": "2d9470dd",
   "metadata": {},
   "outputs": [
    {
     "name": "stderr",
     "output_type": "stream",
     "text": [
      "huggingface/tokenizers: The current process just got forked, after parallelism has already been used. Disabling parallelism to avoid deadlocks...\n",
      "To disable this warning, you can either:\n",
      "\t- Avoid using `tokenizers` before the fork if possible\n",
      "\t- Explicitly set the environment variable TOKENIZERS_PARALLELISM=(true | false)\n"
     ]
    },
    {
     "name": "stdout",
     "output_type": "stream",
     "text": [
      "Requirement already satisfied: transformers in /Users/parz/miniforge3/envs/data-science/lib/python3.9/site-packages (4.48.1)\n",
      "Requirement already satisfied: numpy>=1.17 in /Users/parz/miniforge3/envs/data-science/lib/python3.9/site-packages (from transformers) (1.24.1)\n",
      "Requirement already satisfied: tokenizers<0.22,>=0.21 in /Users/parz/miniforge3/envs/data-science/lib/python3.9/site-packages (from transformers) (0.21.0)\n",
      "Requirement already satisfied: requests in /Users/parz/miniforge3/envs/data-science/lib/python3.9/site-packages (from transformers) (2.28.2)\n",
      "Requirement already satisfied: regex!=2019.12.17 in /Users/parz/miniforge3/envs/data-science/lib/python3.9/site-packages (from transformers) (2024.11.6)\n",
      "Requirement already satisfied: tqdm>=4.27 in /Users/parz/miniforge3/envs/data-science/lib/python3.9/site-packages (from transformers) (4.66.1)\n",
      "Requirement already satisfied: packaging>=20.0 in /Users/parz/miniforge3/envs/data-science/lib/python3.9/site-packages (from transformers) (23.0)\n",
      "Requirement already satisfied: huggingface-hub<1.0,>=0.24.0 in /Users/parz/miniforge3/envs/data-science/lib/python3.9/site-packages (from transformers) (0.28.0)\n",
      "Requirement already satisfied: pyyaml>=5.1 in /Users/parz/miniforge3/envs/data-science/lib/python3.9/site-packages (from transformers) (6.0)\n",
      "Requirement already satisfied: safetensors>=0.4.1 in /Users/parz/miniforge3/envs/data-science/lib/python3.9/site-packages (from transformers) (0.5.2)\n",
      "Requirement already satisfied: filelock in /Users/parz/miniforge3/envs/data-science/lib/python3.9/site-packages (from transformers) (3.12.4)\n",
      "Requirement already satisfied: typing-extensions>=3.7.4.3 in /Users/parz/miniforge3/envs/data-science/lib/python3.9/site-packages (from huggingface-hub<1.0,>=0.24.0->transformers) (4.12.2)\n",
      "Requirement already satisfied: fsspec>=2023.5.0 in /Users/parz/miniforge3/envs/data-science/lib/python3.9/site-packages (from huggingface-hub<1.0,>=0.24.0->transformers) (2024.12.0)\n",
      "Requirement already satisfied: charset-normalizer<4,>=2 in /Users/parz/miniforge3/envs/data-science/lib/python3.9/site-packages (from requests->transformers) (3.0.1)\n",
      "Requirement already satisfied: idna<4,>=2.5 in /Users/parz/miniforge3/envs/data-science/lib/python3.9/site-packages (from requests->transformers) (3.4)\n",
      "Requirement already satisfied: certifi>=2017.4.17 in /Users/parz/miniforge3/envs/data-science/lib/python3.9/site-packages (from requests->transformers) (2022.12.7)\n",
      "Requirement already satisfied: urllib3<1.27,>=1.21.1 in /Users/parz/miniforge3/envs/data-science/lib/python3.9/site-packages (from requests->transformers) (1.26.14)\n"
     ]
    }
   ],
   "source": [
    "!pip install transformers"
   ]
  },
  {
   "cell_type": "code",
   "execution_count": 11,
   "id": "b68bbf34-4608-4979-b8b2-3e6bcce80d94",
   "metadata": {},
   "outputs": [
    {
     "name": "stderr",
     "output_type": "stream",
     "text": [
      "No model was supplied, defaulted to distilbert/distilbert-base-uncased-finetuned-sst-2-english and revision 714eb0f (https://huggingface.co/distilbert/distilbert-base-uncased-finetuned-sst-2-english).\n",
      "Using a pipeline without specifying a model name and revision in production is not recommended.\n",
      "Device set to use mps:0\n"
     ]
    },
    {
     "data": {
      "text/plain": [
       "[{'label': 'POSITIVE', 'score': 0.9996436834335327}]"
      ]
     },
     "execution_count": 11,
     "metadata": {},
     "output_type": "execute_result"
    }
   ],
   "source": [
    "from transformers import pipeline\n",
    "analyzer = pipeline(\"sentiment-analysis\")\n",
    "analyzer(inp_string)"
   ]
  },
  {
   "cell_type": "code",
   "execution_count": null,
   "id": "1ea0e321-cc9e-42b7-8f02-f370f4095759",
   "metadata": {},
   "outputs": [],
   "source": []
  }
 ],
 "metadata": {
  "kernelspec": {
   "display_name": "Python 3 (ipykernel)",
   "language": "python",
   "name": "python3"
  },
  "language_info": {
   "codemirror_mode": {
    "name": "ipython",
    "version": 3
   },
   "file_extension": ".py",
   "mimetype": "text/x-python",
   "name": "python",
   "nbconvert_exporter": "python",
   "pygments_lexer": "ipython3",
   "version": "3.9.15"
  }
 },
 "nbformat": 4,
 "nbformat_minor": 5
}
